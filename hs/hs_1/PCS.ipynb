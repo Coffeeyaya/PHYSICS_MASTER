{
 "cells": [
  {
   "cell_type": "code",
   "execution_count": 1,
   "metadata": {},
   "outputs": [],
   "source": [
    "import numpy as np\n",
    "import matplotlib.pyplot as plt\n",
    "from ipywidgets import interact, FloatSlider, IntSlider"
   ]
  },
  {
   "cell_type": "code",
   "execution_count": 4,
   "metadata": {},
   "outputs": [
    {
     "data": {
      "application/vnd.jupyter.widget-view+json": {
       "model_id": "be3f2de1b013446781519d93ecae754b",
       "version_major": 2,
       "version_minor": 0
      },
      "text/plain": [
       "interactive(children=(FloatSlider(value=0.5, description='Rise τ', max=5.0, min=0.01, step=0.01), FloatSlider(…"
      ]
     },
     "metadata": {},
     "output_type": "display_data"
    },
    {
     "data": {
      "text/plain": [
       "<function __main__.plot_psc_double_exp(tau_rise=0.5, tau_fast=1.0, tau_slow=5.0, A=0.7, delta_t=1.0, delta_I=1.0, n_pulses=10)>"
      ]
     },
     "execution_count": 4,
     "metadata": {},
     "output_type": "execute_result"
    }
   ],
   "source": [
    "import numpy as np\n",
    "import matplotlib.pyplot as plt\n",
    "from ipywidgets import interact, FloatSlider, IntSlider\n",
    "\n",
    "def plot_psc_double_exp(tau_rise=0.5, tau_fast=1.0, tau_slow=5.0, A=0.7, delta_t=1.0, delta_I=1.0, n_pulses=10):\n",
    "    t_max = n_pulses * delta_t + 5\n",
    "    dt = 0.01\n",
    "    t = np.arange(0, t_max, dt)\n",
    "    \n",
    "    pulse_times = np.arange(0, n_pulses*delta_t, delta_t)\n",
    "    I_PSC = np.zeros_like(t)\n",
    "\n",
    "    for t_pulse in pulse_times:\n",
    "        mask = t >= t_pulse\n",
    "        I_PSC[mask] += delta_I * (1 - np.exp(-(t[mask] - t_pulse)/tau_rise)) * \\\n",
    "                       (A * np.exp(-(t[mask] - t_pulse)/tau_fast) + (1-A) * np.exp(-(t[mask] - t_pulse)/tau_slow))\n",
    "\n",
    "    plt.figure(figsize=(8,4))\n",
    "    plt.plot(t, I_PSC, lw=2)\n",
    "    plt.xlabel(\"Time\")\n",
    "    plt.ylabel(\"PSC (a.u.)\")\n",
    "    plt.title(f\"Double-Exponential PSC\\ntau_rise={tau_rise}, tau_fast={tau_fast}, tau_slow={tau_slow}, A={A}\")\n",
    "    plt.grid(True)\n",
    "    plt.show()\n",
    "\n",
    "interact(plot_psc_double_exp,\n",
    "         tau_rise=FloatSlider(value=0.5, min=0.01, max=5.0, step=0.01, description='Rise τ'),\n",
    "         tau_fast=FloatSlider(value=1.0, min=0.1, max=10.0, step=0.1, description='Fast τ'),\n",
    "         tau_slow=FloatSlider(value=5.0, min=0.1, max=20.0, step=0.1, description='Slow τ'),\n",
    "         A=FloatSlider(value=0.7, min=0.0, max=1.0, step=0.01, description='Fast fraction A'),\n",
    "         delta_t=FloatSlider(value=1.0, min=0.1, max=5.0, step=0.1, description='Pulse Δt'),\n",
    "         delta_I=FloatSlider(value=1.0, min=0.1, max=5.0, step=0.1, description='ΔI'),\n",
    "         n_pulses=IntSlider(value=10, min=1, max=20, step=1, description='N Pulses'))\n"
   ]
  }
 ],
 "metadata": {
  "kernelspec": {
   "display_name": "base",
   "language": "python",
   "name": "python3"
  },
  "language_info": {
   "codemirror_mode": {
    "name": "ipython",
    "version": 3
   },
   "file_extension": ".py",
   "mimetype": "text/x-python",
   "name": "python",
   "nbconvert_exporter": "python",
   "pygments_lexer": "ipython3",
   "version": "3.11.4"
  },
  "orig_nbformat": 4
 },
 "nbformat": 4,
 "nbformat_minor": 2
}
